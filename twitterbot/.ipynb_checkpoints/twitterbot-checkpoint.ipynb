{
 "cells": [
  {
   "cell_type": "code",
   "execution_count": 79,
   "metadata": {},
   "outputs": [
    {
     "name": "stdout",
     "output_type": "stream",
     "text": [
      "Authentication OK\n"
     ]
    }
   ],
   "source": [
    "import tweepy\n",
    "import os\n",
    "import sys\n",
    "\n",
    "\n",
    "from api_keys import oauth, oauth_secret, token, token_secret\n",
    "\n",
    "auth = tweepy.OAuthHandler(oauth,\n",
    "    oauth_secret)\n",
    "auth.set_access_token(token, token_secret)\n",
    "\n",
    "api = tweepy.API(auth)\n",
    "\n",
    "try:\n",
    "    api.verify_credentials()\n",
    "    print(\"Authentication OK\")\n",
    "except:\n",
    "    print(\"Error during authentication\")"
   ]
  },
  {
   "cell_type": "code",
   "execution_count": 5,
   "metadata": {},
   "outputs": [],
   "source": [
    "# Create API object\n",
    "api = tweepy.API(auth, wait_on_rate_limit=True,\n",
    "    wait_on_rate_limit_notify=True)"
   ]
  },
  {
   "cell_type": "code",
   "execution_count": 6,
   "metadata": {},
   "outputs": [],
   "source": [
    "import pandas as pd\n",
    "\n",
    "papers = pd.read_csv('papers_to_tweet_jan_2020.csv')"
   ]
  },
  {
   "cell_type": "code",
   "execution_count": 10,
   "metadata": {},
   "outputs": [],
   "source": [
    "f = open( 'papers_tweeted_count.txt', 'r' )\n",
    "papers_tweeted = int(f.read())"
   ]
  },
  {
   "cell_type": "code",
   "execution_count": 47,
   "metadata": {},
   "outputs": [
    {
     "data": {
      "text/plain": [
       "'Single-cell classic of the day: \\nMacosko EZ et al, 2015\\nHighly Parallel Genome-wide Expression Profiling of Individual Cells Using Nanoliter Droplets.\\n1130 citations https://europepmc.org/article/MED/26000488'"
      ]
     },
     "execution_count": 47,
     "metadata": {},
     "output_type": "execute_result"
    }
   ],
   "source": [
    "\n",
    "tweet =  \"#singlecell classic of the day: \" + \"\\n\" + papers['firstAuthor'][papers_tweeted] + \" et al, \" + str(papers['pubYear'][papers_tweeted]) + '\\n' +  '\"' + papers['title'][papers_tweeted] + '\"' + '\"' '\\n' + str(papers['citedByCount'][papers_tweeted]) + ' citations in EuropePMC' + \"\\n\" + \"https://europepmc.org/article/MED/\" + str(papers['pmid'][papers_tweeted])\n",
    "\n",
    "\n"
   ]
  },
  {
   "cell_type": "code",
   "execution_count": 30,
   "metadata": {},
   "outputs": [
    {
     "data": {
      "text/plain": [
       "2015"
      ]
     },
     "execution_count": 30,
     "metadata": {},
     "output_type": "execute_result"
    }
   ],
   "source": [
    "papers['pubYear'][papers_tweeted]"
   ]
  },
  {
   "cell_type": "code",
   "execution_count": 68,
   "metadata": {},
   "outputs": [
    {
     "data": {
      "text/plain": [
       "'Highly Parallel Genome-wide Expression Profiling of Individual Cells Using Nanoliter Droplets.'"
      ]
     },
     "execution_count": 68,
     "metadata": {},
     "output_type": "execute_result"
    }
   ],
   "source": [
    "papers['title'][papers_tweeted]"
   ]
  },
  {
   "cell_type": "code",
   "execution_count": 48,
   "metadata": {},
   "outputs": [
    {
     "data": {
      "text/plain": [
       "Status(_api=<tweepy.api.API object at 0x7f2cc3fc4be0>, _json={'created_at': 'Thu Jan 23 20:21:41 +0000 2020', 'id': 1220441491971149827, 'id_str': '1220441491971149827', 'text': 'Single-cell classic of the day: \\nMacosko EZ et al, 2015\\nHighly Parallel Genome-wide Expression Profiling of Individ… https://t.co/BHtZB8hOjh', 'truncated': True, 'entities': {'hashtags': [], 'symbols': [], 'user_mentions': [], 'urls': [{'url': 'https://t.co/BHtZB8hOjh', 'expanded_url': 'https://twitter.com/i/web/status/1220441491971149827', 'display_url': 'twitter.com/i/web/status/1…', 'indices': [117, 140]}]}, 'source': '<a href=\"https://github.com/lubianat/read-the-classics-karen\" rel=\"nofollow\">Single Cell Classics</a>', 'in_reply_to_status_id': None, 'in_reply_to_status_id_str': None, 'in_reply_to_user_id': None, 'in_reply_to_user_id_str': None, 'in_reply_to_screen_name': None, 'user': {'id': 794138010879148032, 'id_str': '794138010879148032', 'name': 'Tiago Lubiana', 'screen_name': 'lubianat', 'location': '', 'description': 'MSc student in computational bio at Uni of São Paulo | https://t.co/B5z4IO1ocG | Metascience | Theoretical Biology |https://t.co/R4jyAdbyGc | https://t.co/nkEHgXlGAo', 'url': None, 'entities': {'description': {'urls': [{'url': 'https://t.co/B5z4IO1ocG', 'expanded_url': 'http://csbiology.com', 'display_url': 'csbiology.com', 'indices': [55, 78]}, {'url': 'https://t.co/R4jyAdbyGc', 'expanded_url': 'http://github.com/lubianat', 'display_url': 'github.com/lubianat', 'indices': [116, 139]}, {'url': 'https://t.co/nkEHgXlGAo', 'expanded_url': 'http://wikidata.org/User:TiagoLubiana', 'display_url': 'wikidata.org/User:TiagoLubi…', 'indices': [142, 165]}]}}, 'protected': False, 'followers_count': 140, 'friends_count': 408, 'listed_count': 5, 'created_at': 'Thu Nov 03 11:23:50 +0000 2016', 'favourites_count': 1472, 'utc_offset': None, 'time_zone': None, 'geo_enabled': False, 'verified': False, 'statuses_count': 316, 'lang': None, 'contributors_enabled': False, 'is_translator': False, 'is_translation_enabled': False, 'profile_background_color': 'F5F8FA', 'profile_background_image_url': None, 'profile_background_image_url_https': None, 'profile_background_tile': False, 'profile_image_url': 'http://pbs.twimg.com/profile_images/1158880260643074048/PYUUCB5N_normal.jpg', 'profile_image_url_https': 'https://pbs.twimg.com/profile_images/1158880260643074048/PYUUCB5N_normal.jpg', 'profile_link_color': '1DA1F2', 'profile_sidebar_border_color': 'C0DEED', 'profile_sidebar_fill_color': 'DDEEF6', 'profile_text_color': '333333', 'profile_use_background_image': True, 'has_extended_profile': True, 'default_profile': True, 'default_profile_image': False, 'can_media_tag': True, 'followed_by': False, 'following': False, 'follow_request_sent': False, 'notifications': False, 'translator_type': 'none'}, 'geo': None, 'coordinates': None, 'place': None, 'contributors': None, 'is_quote_status': False, 'retweet_count': 0, 'favorite_count': 0, 'favorited': False, 'retweeted': False, 'possibly_sensitive': False, 'lang': 'en'}, created_at=datetime.datetime(2020, 1, 23, 20, 21, 41), id=1220441491971149827, id_str='1220441491971149827', text='Single-cell classic of the day: \\nMacosko EZ et al, 2015\\nHighly Parallel Genome-wide Expression Profiling of Individ… https://t.co/BHtZB8hOjh', truncated=True, entities={'hashtags': [], 'symbols': [], 'user_mentions': [], 'urls': [{'url': 'https://t.co/BHtZB8hOjh', 'expanded_url': 'https://twitter.com/i/web/status/1220441491971149827', 'display_url': 'twitter.com/i/web/status/1…', 'indices': [117, 140]}]}, source='Single Cell Classics', source_url='https://github.com/lubianat/read-the-classics-karen', in_reply_to_status_id=None, in_reply_to_status_id_str=None, in_reply_to_user_id=None, in_reply_to_user_id_str=None, in_reply_to_screen_name=None, author=User(_api=<tweepy.api.API object at 0x7f2cc3fc4be0>, _json={'id': 794138010879148032, 'id_str': '794138010879148032', 'name': 'Tiago Lubiana', 'screen_name': 'lubianat', 'location': '', 'description': 'MSc student in computational bio at Uni of São Paulo | https://t.co/B5z4IO1ocG | Metascience | Theoretical Biology |https://t.co/R4jyAdbyGc | https://t.co/nkEHgXlGAo', 'url': None, 'entities': {'description': {'urls': [{'url': 'https://t.co/B5z4IO1ocG', 'expanded_url': 'http://csbiology.com', 'display_url': 'csbiology.com', 'indices': [55, 78]}, {'url': 'https://t.co/R4jyAdbyGc', 'expanded_url': 'http://github.com/lubianat', 'display_url': 'github.com/lubianat', 'indices': [116, 139]}, {'url': 'https://t.co/nkEHgXlGAo', 'expanded_url': 'http://wikidata.org/User:TiagoLubiana', 'display_url': 'wikidata.org/User:TiagoLubi…', 'indices': [142, 165]}]}}, 'protected': False, 'followers_count': 140, 'friends_count': 408, 'listed_count': 5, 'created_at': 'Thu Nov 03 11:23:50 +0000 2016', 'favourites_count': 1472, 'utc_offset': None, 'time_zone': None, 'geo_enabled': False, 'verified': False, 'statuses_count': 316, 'lang': None, 'contributors_enabled': False, 'is_translator': False, 'is_translation_enabled': False, 'profile_background_color': 'F5F8FA', 'profile_background_image_url': None, 'profile_background_image_url_https': None, 'profile_background_tile': False, 'profile_image_url': 'http://pbs.twimg.com/profile_images/1158880260643074048/PYUUCB5N_normal.jpg', 'profile_image_url_https': 'https://pbs.twimg.com/profile_images/1158880260643074048/PYUUCB5N_normal.jpg', 'profile_link_color': '1DA1F2', 'profile_sidebar_border_color': 'C0DEED', 'profile_sidebar_fill_color': 'DDEEF6', 'profile_text_color': '333333', 'profile_use_background_image': True, 'has_extended_profile': True, 'default_profile': True, 'default_profile_image': False, 'can_media_tag': True, 'followed_by': False, 'following': False, 'follow_request_sent': False, 'notifications': False, 'translator_type': 'none'}, id=794138010879148032, id_str='794138010879148032', name='Tiago Lubiana', screen_name='lubianat', location='', description='MSc student in computational bio at Uni of São Paulo | https://t.co/B5z4IO1ocG | Metascience | Theoretical Biology |https://t.co/R4jyAdbyGc | https://t.co/nkEHgXlGAo', url=None, entities={'description': {'urls': [{'url': 'https://t.co/B5z4IO1ocG', 'expanded_url': 'http://csbiology.com', 'display_url': 'csbiology.com', 'indices': [55, 78]}, {'url': 'https://t.co/R4jyAdbyGc', 'expanded_url': 'http://github.com/lubianat', 'display_url': 'github.com/lubianat', 'indices': [116, 139]}, {'url': 'https://t.co/nkEHgXlGAo', 'expanded_url': 'http://wikidata.org/User:TiagoLubiana', 'display_url': 'wikidata.org/User:TiagoLubi…', 'indices': [142, 165]}]}}, protected=False, followers_count=140, friends_count=408, listed_count=5, created_at=datetime.datetime(2016, 11, 3, 11, 23, 50), favourites_count=1472, utc_offset=None, time_zone=None, geo_enabled=False, verified=False, statuses_count=316, lang=None, contributors_enabled=False, is_translator=False, is_translation_enabled=False, profile_background_color='F5F8FA', profile_background_image_url=None, profile_background_image_url_https=None, profile_background_tile=False, profile_image_url='http://pbs.twimg.com/profile_images/1158880260643074048/PYUUCB5N_normal.jpg', profile_image_url_https='https://pbs.twimg.com/profile_images/1158880260643074048/PYUUCB5N_normal.jpg', profile_link_color='1DA1F2', profile_sidebar_border_color='C0DEED', profile_sidebar_fill_color='DDEEF6', profile_text_color='333333', profile_use_background_image=True, has_extended_profile=True, default_profile=True, default_profile_image=False, can_media_tag=True, followed_by=False, following=False, follow_request_sent=False, notifications=False, translator_type='none'), user=User(_api=<tweepy.api.API object at 0x7f2cc3fc4be0>, _json={'id': 794138010879148032, 'id_str': '794138010879148032', 'name': 'Tiago Lubiana', 'screen_name': 'lubianat', 'location': '', 'description': 'MSc student in computational bio at Uni of São Paulo | https://t.co/B5z4IO1ocG | Metascience | Theoretical Biology |https://t.co/R4jyAdbyGc | https://t.co/nkEHgXlGAo', 'url': None, 'entities': {'description': {'urls': [{'url': 'https://t.co/B5z4IO1ocG', 'expanded_url': 'http://csbiology.com', 'display_url': 'csbiology.com', 'indices': [55, 78]}, {'url': 'https://t.co/R4jyAdbyGc', 'expanded_url': 'http://github.com/lubianat', 'display_url': 'github.com/lubianat', 'indices': [116, 139]}, {'url': 'https://t.co/nkEHgXlGAo', 'expanded_url': 'http://wikidata.org/User:TiagoLubiana', 'display_url': 'wikidata.org/User:TiagoLubi…', 'indices': [142, 165]}]}}, 'protected': False, 'followers_count': 140, 'friends_count': 408, 'listed_count': 5, 'created_at': 'Thu Nov 03 11:23:50 +0000 2016', 'favourites_count': 1472, 'utc_offset': None, 'time_zone': None, 'geo_enabled': False, 'verified': False, 'statuses_count': 316, 'lang': None, 'contributors_enabled': False, 'is_translator': False, 'is_translation_enabled': False, 'profile_background_color': 'F5F8FA', 'profile_background_image_url': None, 'profile_background_image_url_https': None, 'profile_background_tile': False, 'profile_image_url': 'http://pbs.twimg.com/profile_images/1158880260643074048/PYUUCB5N_normal.jpg', 'profile_image_url_https': 'https://pbs.twimg.com/profile_images/1158880260643074048/PYUUCB5N_normal.jpg', 'profile_link_color': '1DA1F2', 'profile_sidebar_border_color': 'C0DEED', 'profile_sidebar_fill_color': 'DDEEF6', 'profile_text_color': '333333', 'profile_use_background_image': True, 'has_extended_profile': True, 'default_profile': True, 'default_profile_image': False, 'can_media_tag': True, 'followed_by': False, 'following': False, 'follow_request_sent': False, 'notifications': False, 'translator_type': 'none'}, id=794138010879148032, id_str='794138010879148032', name='Tiago Lubiana', screen_name='lubianat', location='', description='MSc student in computational bio at Uni of São Paulo | https://t.co/B5z4IO1ocG | Metascience | Theoretical Biology |https://t.co/R4jyAdbyGc | https://t.co/nkEHgXlGAo', url=None, entities={'description': {'urls': [{'url': 'https://t.co/B5z4IO1ocG', 'expanded_url': 'http://csbiology.com', 'display_url': 'csbiology.com', 'indices': [55, 78]}, {'url': 'https://t.co/R4jyAdbyGc', 'expanded_url': 'http://github.com/lubianat', 'display_url': 'github.com/lubianat', 'indices': [116, 139]}, {'url': 'https://t.co/nkEHgXlGAo', 'expanded_url': 'http://wikidata.org/User:TiagoLubiana', 'display_url': 'wikidata.org/User:TiagoLubi…', 'indices': [142, 165]}]}}, protected=False, followers_count=140, friends_count=408, listed_count=5, created_at=datetime.datetime(2016, 11, 3, 11, 23, 50), favourites_count=1472, utc_offset=None, time_zone=None, geo_enabled=False, verified=False, statuses_count=316, lang=None, contributors_enabled=False, is_translator=False, is_translation_enabled=False, profile_background_color='F5F8FA', profile_background_image_url=None, profile_background_image_url_https=None, profile_background_tile=False, profile_image_url='http://pbs.twimg.com/profile_images/1158880260643074048/PYUUCB5N_normal.jpg', profile_image_url_https='https://pbs.twimg.com/profile_images/1158880260643074048/PYUUCB5N_normal.jpg', profile_link_color='1DA1F2', profile_sidebar_border_color='C0DEED', profile_sidebar_fill_color='DDEEF6', profile_text_color='333333', profile_use_background_image=True, has_extended_profile=True, default_profile=True, default_profile_image=False, can_media_tag=True, followed_by=False, following=False, follow_request_sent=False, notifications=False, translator_type='none'), geo=None, coordinates=None, place=None, contributors=None, is_quote_status=False, retweet_count=0, favorite_count=0, favorited=False, retweeted=False, possibly_sensitive=False, lang='en')"
      ]
     },
     "execution_count": 48,
     "metadata": {},
     "output_type": "execute_result"
    }
   ],
   "source": [
    "api.update_status(tweet)\n",
    "\n",
    "\n",
    "f = open( 'papers_tweeted_count.txt', 'w' )\n",
    "f.write(str(papers_tweeted))\n",
    "f.close()\n",
    "\n"
   ]
  },
  {
   "cell_type": "code",
   "execution_count": 70,
   "metadata": {},
   "outputs": [
    {
     "data": {
      "text/plain": [
       "'/home/lubianat/Documents/Projects/side/read-the-classics-karen'"
      ]
     },
     "execution_count": 70,
     "metadata": {},
     "output_type": "execute_result"
    }
   ],
   "source": [
    "%pwd"
   ]
  }
 ],
 "metadata": {
  "kernelspec": {
   "display_name": "Python 3",
   "language": "python",
   "name": "python3"
  },
  "language_info": {
   "codemirror_mode": {
    "name": "ipython",
    "version": 3
   },
   "file_extension": ".py",
   "mimetype": "text/x-python",
   "name": "python",
   "nbconvert_exporter": "python",
   "pygments_lexer": "ipython3",
   "version": "3.6.5"
  }
 },
 "nbformat": 4,
 "nbformat_minor": 4
}
