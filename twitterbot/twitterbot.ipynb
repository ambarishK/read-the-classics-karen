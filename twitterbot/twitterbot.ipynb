{
 "cells": [
  {
   "cell_type": "code",
   "execution_count": 4,
   "metadata": {},
   "outputs": [
    {
     "name": "stdout",
     "output_type": "stream",
     "text": [
      "/home/lubianat/Documents/Projects/side/read-the-classics-karen/twitterbot\n",
      "Authentication OK\n"
     ]
    }
   ],
   "source": [
    "\n",
    "%cd '/home/lubianat/Documents/Projects/side/read-the-classics-karen/twitterbot'\n",
    "\n",
    "import tweepy\n",
    "\n",
    "\n",
    "\n",
    "from api_keys import oauth, oauth_secret, token, token_secret\n",
    "\n",
    "auth = tweepy.OAuthHandler(oauth,\n",
    "    oauth_secret)\n",
    "auth.set_access_token(token, token_secret)\n",
    "\n",
    "api = tweepy.API(auth)\n",
    "\n",
    "try:\n",
    "    api.verify_credentials()\n",
    "    print(\"Authentication OK\")\n",
    "except:\n",
    "    print(\"Error during authentication\")"
   ]
  },
  {
   "cell_type": "code",
   "execution_count": 5,
   "metadata": {},
   "outputs": [],
   "source": [
    "# Create API object\n",
    "api = tweepy.API(auth, wait_on_rate_limit=True,\n",
    "    wait_on_rate_limit_notify=True)"
   ]
  },
  {
   "cell_type": "code",
   "execution_count": 6,
   "metadata": {},
   "outputs": [],
   "source": [
    "import pandas as pd\n",
    "\n",
    "papers = pd.read_csv('./papers_to_tweet_jan_2020.csv')"
   ]
  },
  {
   "cell_type": "code",
   "execution_count": 7,
   "metadata": {},
   "outputs": [],
   "source": [
    "f = open( './papers_tweeted_count.txt', 'r' )\n",
    "papers_tweeted = int(f.read())\n"
   ]
  },
  {
   "cell_type": "code",
   "execution_count": 8,
   "metadata": {},
   "outputs": [],
   "source": [
    "\n",
    "tweet =  \"#singlecell classic of the day: \" + \"\\n\" + papers['firstAuthor'][papers_tweeted] + \" et al, \" + str(papers['pubYear'][papers_tweeted]) + '\\n' +  '\"' + papers['title'][papers_tweeted] + '\"' + '\\n' + str(papers['citedByCount'][papers_tweeted]) + ' citations in EuropePMC' + \"\\n\" + \"https://europepmc.org/article/MED/\" + str(papers['pmid'][papers_tweeted])\n",
    "\n",
    "\n"
   ]
  },
  {
   "cell_type": "code",
   "execution_count": 9,
   "metadata": {},
   "outputs": [
    {
     "data": {
      "text/plain": [
       "2015"
      ]
     },
     "execution_count": 9,
     "metadata": {},
     "output_type": "execute_result"
    }
   ],
   "source": [
    "papers['pubYear'][papers_tweeted]"
   ]
  },
  {
   "cell_type": "code",
   "execution_count": 10,
   "metadata": {},
   "outputs": [
    {
     "data": {
      "text/plain": [
       "'Brain structure. Cell types in the mouse cortex and hippocampus revealed by single-cell RNA-seq.'"
      ]
     },
     "execution_count": 10,
     "metadata": {},
     "output_type": "execute_result"
    }
   ],
   "source": [
    "papers['title'][papers_tweeted]"
   ]
  },
  {
   "cell_type": "code",
   "execution_count": 81,
   "metadata": {},
   "outputs": [],
   "source": [
    "api.update_status(tweet)\n",
    "papers_tweeted += 1\n",
    "\n",
    "f = open( 'papers_tweeted_count.txt', 'w' )\n",
    "f.write(str(papers_tweeted))\n",
    "f.close()\n",
    "\n"
   ]
  },
  {
   "cell_type": "code",
   "execution_count": 3,
   "metadata": {},
   "outputs": [
    {
     "name": "stdout",
     "output_type": "stream",
     "text": [
      "/home/lubianat/Documents/Projects/side/read-the-classics-karen/twitterbot\n"
     ]
    }
   ],
   "source": []
  },
  {
   "cell_type": "code",
   "execution_count": null,
   "metadata": {},
   "outputs": [],
   "source": []
  }
 ],
 "metadata": {
  "kernelspec": {
   "display_name": "Python 3",
   "language": "python",
   "name": "python3"
  },
  "language_info": {
   "codemirror_mode": {
    "name": "ipython",
    "version": 3
   },
   "file_extension": ".py",
   "mimetype": "text/x-python",
   "name": "python",
   "nbconvert_exporter": "python",
   "pygments_lexer": "ipython3",
   "version": "3.6.5"
  }
 },
 "nbformat": 4,
 "nbformat_minor": 4
}
