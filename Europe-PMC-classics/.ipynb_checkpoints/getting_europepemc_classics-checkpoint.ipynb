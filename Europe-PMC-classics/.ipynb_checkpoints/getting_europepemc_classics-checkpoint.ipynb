{
 "cells": [
  {
   "cell_type": "markdown",
   "metadata": {},
   "source": [
    "Let's start lookinf for classic citations at the EuropePMC database.\n",
    "\n",
    "Once more, we will use naive definitions of citation classics. \n",
    "\n",
    "Classics are all cited more than 150 times. \n",
    "\n",
    "Big classics: more than 500 citations\n",
    "\n",
    "Medium classics: at least 300 citations, less than 500\n",
    "\n",
    "Small classics: at least 150 citations, less than 300\n"
   ]
  },
  {
   "cell_type": "code",
   "execution_count": 1,
   "metadata": {},
   "outputs": [],
   "source": [
    "import json\n",
    "from pandas.io.json import json_normalize\n",
    "\n",
    "\n",
    "import requests\n",
    "from bs4 import BeautifulSoup\n",
    "\n",
    "pmc_query = \"https://www.ebi.ac.uk/europepmc/webservices/rest/search?query=%22single-cell%20RNA-seq%22&resultType=lite&cursorMark=*&pageSize=100&sort=CITED%20desc&format=json\"\n",
    "page = requests.get(pmc_query)\n",
    "\n",
    "data = json.loads(page.text)\n",
    "df = json_normalize(data['resultList']['result'])\n",
    "\n",
    "\n",
    "single_cell_papers = df[['pmid', 'title', 'authorString', 'journalTitle', 'citedByCount', 'pubYear']]\n",
    "\n"
   ]
  },
  {
   "cell_type": "code",
   "execution_count": 11,
   "metadata": {},
   "outputs": [],
   "source": [
    "def get_first_author(string):\n",
    "    result = string.split(',')[0]\n",
    "    return(result)\n",
    "    \n",
    "first_authors = single_cell_papers['authorString'].apply(get_first_author)\n",
    "single_cell_papers['firstAuthor'] = first_authors\n",
    "single_cell_papers = single_cell_papers[single_cell_papers['citedByCount']>=150]\n",
    "\n",
    "single_cell_papers = single_cell_papers.head(67)"
   ]
  },
  {
   "cell_type": "markdown",
   "metadata": {},
   "source": [
    "Cool, now we have our database of interest: all articles with more than 150 citations in EuropePMC about \"single-cell RNA sequencing\". \n",
    "\n",
    "The goal now is to turn this database into a markdown, user-friendly list. \n",
    "\n",
    "We will start by creating a base markdown file\n"
   ]
  },
  {
   "cell_type": "code",
   "execution_count": 12,
   "metadata": {},
   "outputs": [
    {
     "data": {
      "text/plain": [
       "\"\\n# Overview\\n\\n\\nLet's start lookinf for classic citations at the EuropePMC database.Once more, we will use naive definitions of citation classics.  \\n  \\n* Classics are all cited more than 150 times.  \\n* Big classics: more than 500 citations  \\n* Medium classics: at least 300 citations, less than 500  \\n* Small classics: at least 150 citations, less than 300\\n  \\nCurrently, we have 5 classics that meet the criteria above:  \\n\""
      ]
     },
     "execution_count": 12,
     "metadata": {},
     "output_type": "execute_result"
    }
   ],
   "source": [
    "import pandas as pd\n",
    "last_week_classics = pd.read_csv('current_papers.csv')\n",
    "\n",
    "single_cell_papers \n",
    "last_week_classics\n",
    "\n",
    "\n",
    "\n",
    "from mdutils.mdutils import MdUtils\n",
    "mdFile = MdUtils(file_name='README', title='Classic citations from the Europe PMC database')\n",
    "\n",
    "mdFile.new_header(level=1, title='Overview')\n",
    "mdFile.new_paragraph(\"Let's start lookinf for classic citations at the EuropePMC database.Once more, we will use naive definitions of citation classics.\") \n",
    "\n",
    "mdFile.new_line()\n",
    "mdFile.new_line(\"* Classics are all cited more than 150 times.\")\n",
    "mdFile.new_line(\"* Big classics: more than 500 citations\")\n",
    "mdFile.new_line(\"* Medium classics: at least 300 citations, less than 500\")\n",
    "mdFile.new_line(\"* Small classics: at least 150 citations, less than 300\\n\")\n",
    "\n",
    "\n",
    "mdFile.new_line(\"Currently, we have \" + str(single_cell_papers.shape[0]) + \" classics that meet the criteria above:\")\n",
    "mdFile.new_line()\n"
   ]
  },
  {
   "cell_type": "code",
   "execution_count": 29,
   "metadata": {},
   "outputs": [],
   "source": [
    "def get_years(pd):\n",
    "    years = list(set(pd['pubYear']))\n",
    "    years.sort(reverse = True)\n",
    "    return(years)\n",
    "    \n",
    "    \n",
    "def get_new_entry(row):\n",
    "    result = (\"* \" + row['firstAuthor'] + \" et al, \" + \"[\" + row['title'] + \"]\" + \n",
    "         \"(\" + \"https://europepmc.org/article/MED/\" + row['pmid'] + \")\")\n",
    "    return(result)\n",
    "    \n",
    "    \n",
    "def add_section_to_md(pd, mdFile):\n",
    "    pd = pd.sort_values('firstAuthor')\n",
    "    years = get_years(pd)\n",
    "\n",
    "    for year in years:\n",
    "        mdFile.new_header(3, year)\n",
    "        df = pd[pd[\"pubYear\"] == year]\n",
    "        for index,row in df.iterrows():\n",
    "            \n",
    "            new_entry  = get_new_entry(row)\n",
    "            \n",
    "            if row['title'] in last_week_classics['title']:\n",
    "                \n",
    "                \n",
    "                mdFile.new_line(new_entry)\n",
    "            \n",
    "            else :\n",
    "                \n",
    "                mdFile.new_line(new_entry + '[NEW]')\n",
    "            \n",
    "            \n",
    "            \n",
    "        \n",
    "        mdFile.new_line()\n",
    "    \n",
    "    return(mdFile)\n",
    "    "
   ]
  },
  {
   "cell_type": "code",
   "execution_count": 30,
   "metadata": {},
   "outputs": [
    {
     "data": {
      "text/plain": [
       "\"\\n# Overview\\n\\n\\nLet's start lookinf for classic citations at the EuropePMC database.Once more, we will use naive definitions of citation classics.  \\n*Classics are all cited more than 150 times.  \\n*Big classics: more than 500 citations  \\n*Medium classics: at least 300 citations, less than 500  \\n*Small classics: at least 150 citations, less than 300\\n\\n# Big classics\\n\\n### 2015\\n  \\n* Klein AM et al, [Droplet barcoding for single-cell transcriptomics applied to embryonic stem cells.](https://europepmc.org/article/MED/26000487)  \\n* Macosko EZ et al, [Highly Parallel Genome-wide Expression Profiling of Individual Cells Using Nanoliter Droplets.](https://europepmc.org/article/MED/26000488)  \\n* Zeisel A et al, [Brain structure. Cell types in the mouse cortex and hippocampus revealed by single-cell RNA-seq.](https://europepmc.org/article/MED/25700174)  \\n\\n### 2014\\n  \\n* Jaitin DA et al, [Massively parallel single-cell RNA-seq for marker-free decomposition of tissues into cell types.](https://europepmc.org/article/MED/24531970)  \\n* Lavin Y et al, [Tissue-resident macrophage enhancer landscapes are shaped by the local microenvironment.](https://europepmc.org/article/MED/25480296)  \\n* Patel AP et al, [Single-cell RNA-seq highlights intratumoral heterogeneity in primary glioblastoma.](https://europepmc.org/article/MED/24925914)  \\n* Picelli S et al, [Full-length RNA-seq from single cells using Smart-seq2.](https://europepmc.org/article/MED/24385147)  \\n* Trapnell C et al, [The dynamics and regulators of cell fate decisions are revealed by pseudotemporal ordering of single cells.](https://europepmc.org/article/MED/24658644)  \\n\\n# Medium classics\\n\\n### 2017\\n  \\n* Keren-Shaul H et al, [A Unique Microglia Type Associated with Restricting Development of Alzheimer's Disease.](https://europepmc.org/article/MED/28602351)  \\n* Zheng GX et al, [Massively parallel digital transcriptional profiling of single cells.](https://europepmc.org/article/MED/28091601)  \\n\\n### 2016\\n  \\n* Conesa A et al, [A survey of best practices for RNA-seq data analysis.](https://europepmc.org/article/MED/26813401)  \\n* Tasic B et al, [Adult mouse cortical cell taxonomy revealed by single cell transcriptomics.](https://europepmc.org/article/MED/26727548)  \\n* Tirosh I et al, [Dissecting the multicellular ecosystem of metastatic melanoma by single-cell RNA-seq.](https://europepmc.org/article/MED/27124452)  \\n\\n### 2015\\n  \\n* Buenrostro JD et al, [Single-cell chromatin accessibility reveals principles of regulatory variation.](https://europepmc.org/article/MED/26083756)  \\n* Satija R et al, [Spatial reconstruction of single-cell gene expression data.](https://europepmc.org/article/MED/25867923)  \\n* Usoskin D et al, [Unbiased classification of sensory neuron types by large-scale single-cell RNA sequencing.](https://europepmc.org/article/MED/25420068)  \\n\\n### 2014\\n  \\n* Deng Q et al, [Single-cell RNA-seq reveals dynamic, random monoallelic gene expression in mammalian cells.](https://europepmc.org/article/MED/24408435)  \\n* Islam S et al, [Quantitative single-cell RNA-seq with unique molecular identifiers.](https://europepmc.org/article/MED/24363023)  \\n* Shalek AK et al, [Single-cell RNA-seq reveals dynamic paracrine control of cellular variation.](https://europepmc.org/article/MED/24919153)  \\n* Takashima Y et al, [Resetting transcription factor control circuitry toward ground-state pluripotency in human.](https://europepmc.org/article/MED/25215486)  \\n* Treutlein B et al, [Reconstructing lineage hierarchies of the distal lung epithelium using single-cell RNA-seq.](https://europepmc.org/article/MED/24739965)  \\n* Wu H et al, [Reversing DNA methylation: mechanisms, genomics, and biological functions.](https://europepmc.org/article/MED/24439369)  \\n\\n### 2013\\n  \\n* Hackett JA et al, [Germline DNA demethylation dynamics and imprint erasure through 5-hydroxymethylcytosine.](https://europepmc.org/article/MED/23223451)  \\n* Shalek AK et al, [Single-cell transcriptomics reveals bimodality in expression and splicing in immune cells.](https://europepmc.org/article/MED/23685454)  \\n* Xue Z et al, [Genetic programs in human and mouse early embryos revealed by single-cell RNA sequencing.](https://europepmc.org/article/MED/23892778)  \\n* Yan L et al, [Single-cell RNA-Seq profiling of human preimplantation embryos and embryonic stem cells.](https://europepmc.org/article/MED/23934149)  \\n\\n### 2012\\n  \\n* Hashimshony T et al, [CEL-Seq: single-cell RNA-Seq by multiplexed linear amplification.](https://europepmc.org/article/MED/22939981)  \\n* Ramsköld D et al, [Full-length mRNA-Seq from single-cell levels of RNA and individual circulating tumor cells.](https://europepmc.org/article/MED/22820318)  \\n\\n### 2011\\n  \\n* Islam S et al, [Characterization of the single-cell transcriptional landscape by highly multiplex RNA-seq.](https://europepmc.org/article/MED/21543516)  \\n\\n# Small classics\\n\\n### 2018\\n  \\n* Afgan E et al, [The Galaxy platform for accessible, reproducible and collaborative biomedical analyses: 2018 update.](https://europepmc.org/article/MED/29790989)  \\n* Butler A et al, [Integrating single-cell transcriptomic data across different conditions, technologies, and species.](https://europepmc.org/article/MED/29608179)  \\n\\n### 2017\\n  \\n* Kiselev VY et al, [SC3: consensus clustering of single-cell RNA-seq data.](https://europepmc.org/article/MED/28346451)  \\n* Villani AC et al, [Single-cell RNA-seq reveals new types of human blood dendritic cells, monocytes, and progenitors.](https://europepmc.org/article/MED/28428369)  \\n* Ziegenhain C et al, [Comparative Analysis of Single-Cell RNA Sequencing Methods.](https://europepmc.org/article/MED/28212749)  \\n\\n### 2016\\n  \\n* Dixit A et al, [Perturb-Seq: Dissecting Molecular Circuits with Scalable Single-Cell RNA Profiling of Pooled Genetic Screens.](https://europepmc.org/article/MED/27984732)  \\n* Goldmann T et al, [Origin, fate and dynamics of macrophages at central nervous system interfaces.](https://europepmc.org/article/MED/27135602)  \\n* Nowakowski TJ et al, [Expression Analysis Highlights AXL as a Candidate Zika Virus Entry Receptor in Neural Stem Cells.](https://europepmc.org/article/MED/27038591)  \\n* Petryszak R et al, [Expression Atlas update--an integrated database of gene and protein expression in humans, animals and plants.](https://europepmc.org/article/MED/26481351)  \\n* Scotti MM et al, [RNA mis-splicing in disease.](https://europepmc.org/article/MED/26593421)  \\n* Segerstolpe Å et al, [Single-Cell Transcriptome Profiling of Human Pancreatic Islets in Health and Type 2 Diabetes.](https://europepmc.org/article/MED/27667667)  \\n* Sharma U et al, [Biogenesis and function of tRNA fragments during sperm maturation and fertilization in mammals.](https://europepmc.org/article/MED/26721685)  \\n* Shekhar K et al, [Comprehensive Classification of Retinal Bipolar Neurons by Single-Cell Transcriptomics.](https://europepmc.org/article/MED/27565351)  \\n\\n### 2015\\n  \\n* Alizadeh AA et al, [Toward understanding and exploiting tumor heterogeneity.](https://europepmc.org/article/MED/26248267)  \\n* Bond AM et al, [Adult Mammalian Neural Stem Cells and Neurogenesis: Five Decades Later.](https://europepmc.org/article/MED/26431181)  \\n* Camp JG et al, [Human cerebral organoids recapitulate gene expression programs of fetal neocortex development.](https://europepmc.org/article/MED/26644564)  \\n* Cusanovich DA et al, [Multiplex single cell profiling of chromatin accessibility by combinatorial cellular indexing.](https://europepmc.org/article/MED/25953818)  \\n* Finak G et al, [MAST: a flexible statistical framework for assessing transcriptional changes and characterizing heterogeneity in single-cell RNA sequencing data.](https://europepmc.org/article/MED/26653891)  \\n* Pollen AA et al, [Molecular identity of human outer radial glia during cortical development.](https://europepmc.org/article/MED/26406371)  \\n* Rotem A et al, [Single-cell ChIP-seq reveals cell subpopulations defined by chromatin state.](https://europepmc.org/article/MED/26458175)  \\n* Shin J et al, [Single-Cell RNA-Seq with Waterfall Reveals Molecular Cascades underlying Adult Neurogenesis.](https://europepmc.org/article/MED/26299571)  \\n* Stegle O et al, [Computational and analytical challenges in single-cell transcriptomics.](https://europepmc.org/article/MED/25628217)  \\n* Vaughan AE et al, [Lineage-negative progenitors mobilize to regenerate lung epithelium after major injury.](https://europepmc.org/article/MED/25533958)  \\n\\n### 2014\\n  \\n* Bendall SC et al, [Single-cell trajectory detection uncovers progression and regulatory coordination in human B cell development.](https://europepmc.org/article/MED/24766814)  \\n* Hogan BL et al, [Repair and regeneration of the respiratory system: complexity, plasticity, and mechanisms of lung stem cell function.](https://europepmc.org/article/MED/25105578)  \\n* Kharchenko PV et al, [Bayesian approach to single-cell differential expression analysis.](https://europepmc.org/article/MED/24836921)  \\n* Kumar RM et al, [Deconstructing transcriptional heterogeneity in pluripotent stem cells.](https://europepmc.org/article/MED/25471879)  \\n* Macaulay IC et al, [Single cell genomics: advances and future perspectives.](https://europepmc.org/article/MED/24497842)  \\n* Marinov GK et al, [From single-cell to cell-pool transcriptomes: stochasticity in gene expression and RNA splicing.](https://europepmc.org/article/MED/24299736)  \\n* Saliba AE et al, [Single-cell RNA-seq: advances and future challenges.](https://europepmc.org/article/MED/25053837)  \\n* Theunissen TW et al, [Systematic identification of culture conditions for induction and maintenance of naive human pluripotency.](https://europepmc.org/article/MED/25090446)  \\n* Wu AR et al, [Quantitative assessment of single-cell RNA-sequencing methods.](https://europepmc.org/article/MED/24141493)  \\n\\n### 2013\\n  \\n* Brennecke P et al, [Accounting for technical noise in single-cell RNA-seq experiments.](https://europepmc.org/article/MED/24056876)  \\n\\n### 2010\\n  \\n* Tang F et al, [RNA-Seq analysis to capture the transcriptome landscape of a single cell.](https://europepmc.org/article/MED/20203668)  \\n* Tang F et al, [Tracing the derivation of embryonic stem cells from the inner cell mass by single-cell RNA-Seq analysis.](https://europepmc.org/article/MED/20452321)  \\n\\n# Contributions\\n  \\nWant to contribute a classic that I've missed? Great! Just add classic to a fork, make a pull request, and it is good to go.\""
      ]
     },
     "execution_count": 30,
     "metadata": {},
     "output_type": "execute_result"
    }
   ],
   "source": [
    "\n",
    "mdFile.new_header(1, \"Big classics\")\n",
    "big_classics = single_cell_papers[single_cell_papers['citedByCount'] >= 500]\n",
    "mdFile = add_section_to_md(big_classics, mdFile)\n",
    "\n",
    "mdFile.new_header(1, \"Medium classics\")\n",
    "mid_classics = single_cell_papers[(single_cell_papers['citedByCount'] >= 300)\n",
    "                                  & (single_cell_papers['citedByCount'] < 500)]\n",
    "mdFile = add_section_to_md(mid_classics, mdFile)\n",
    "\n",
    "\n",
    "mdFile.new_header(1, \"Small classics\")\n",
    "smol_classics = single_cell_papers[(single_cell_papers['citedByCount'] >= 150)\n",
    "                                  & (single_cell_papers['citedByCount'] < 300)]\n",
    "mdFile = add_section_to_md(smol_classics, mdFile)\n",
    "\n",
    "mdFile.new_header(1, \"Contributions\")\n",
    "\n",
    "mdFile.new_line(\"Want to contribute a classic that I've missed? Great! Just add classic to a fork, make a pull request, and it is good to go.\")\n",
    "\n",
    "\n",
    "\n",
    "\n",
    "single_cell_papers.to_csv('current_papers.csv')\n"
   ]
  },
  {
   "cell_type": "code",
   "execution_count": 31,
   "metadata": {},
   "outputs": [
    {
     "data": {
      "text/plain": [
       "\"\\n# Overview\\n\\n\\nLet's start lookinf for classic citations at the EuropePMC database.Once more, we will use naive definitions of citation classics.  \\n*Classics are all cited more than 150 times.  \\n*Big classics: more than 500 citations  \\n*Medium classics: at least 300 citations, less than 500  \\n*Small classics: at least 150 citations, less than 300\\n\\n# Big classics\\n\\n### 2015\\n  \\n* Klein AM et al, [Droplet barcoding for single-cell transcriptomics applied to embryonic stem cells.](https://europepmc.org/article/MED/26000487)  \\n* Macosko EZ et al, [Highly Parallel Genome-wide Expression Profiling of Individual Cells Using Nanoliter Droplets.](https://europepmc.org/article/MED/26000488)  \\n* Zeisel A et al, [Brain structure. Cell types in the mouse cortex and hippocampus revealed by single-cell RNA-seq.](https://europepmc.org/article/MED/25700174)  \\n\\n### 2014\\n  \\n* Jaitin DA et al, [Massively parallel single-cell RNA-seq for marker-free decomposition of tissues into cell types.](https://europepmc.org/article/MED/24531970)  \\n* Lavin Y et al, [Tissue-resident macrophage enhancer landscapes are shaped by the local microenvironment.](https://europepmc.org/article/MED/25480296)  \\n* Patel AP et al, [Single-cell RNA-seq highlights intratumoral heterogeneity in primary glioblastoma.](https://europepmc.org/article/MED/24925914)  \\n* Picelli S et al, [Full-length RNA-seq from single cells using Smart-seq2.](https://europepmc.org/article/MED/24385147)  \\n* Trapnell C et al, [The dynamics and regulators of cell fate decisions are revealed by pseudotemporal ordering of single cells.](https://europepmc.org/article/MED/24658644)  \\n\\n# Medium classics\\n\\n### 2017\\n  \\n* Keren-Shaul H et al, [A Unique Microglia Type Associated with Restricting Development of Alzheimer's Disease.](https://europepmc.org/article/MED/28602351)  \\n* Zheng GX et al, [Massively parallel digital transcriptional profiling of single cells.](https://europepmc.org/article/MED/28091601)  \\n\\n### 2016\\n  \\n* Conesa A et al, [A survey of best practices for RNA-seq data analysis.](https://europepmc.org/article/MED/26813401)  \\n* Tasic B et al, [Adult mouse cortical cell taxonomy revealed by single cell transcriptomics.](https://europepmc.org/article/MED/26727548)  \\n* Tirosh I et al, [Dissecting the multicellular ecosystem of metastatic melanoma by single-cell RNA-seq.](https://europepmc.org/article/MED/27124452)  \\n\\n### 2015\\n  \\n* Buenrostro JD et al, [Single-cell chromatin accessibility reveals principles of regulatory variation.](https://europepmc.org/article/MED/26083756)  \\n* Satija R et al, [Spatial reconstruction of single-cell gene expression data.](https://europepmc.org/article/MED/25867923)  \\n* Usoskin D et al, [Unbiased classification of sensory neuron types by large-scale single-cell RNA sequencing.](https://europepmc.org/article/MED/25420068)  \\n\\n### 2014\\n  \\n* Deng Q et al, [Single-cell RNA-seq reveals dynamic, random monoallelic gene expression in mammalian cells.](https://europepmc.org/article/MED/24408435)  \\n* Islam S et al, [Quantitative single-cell RNA-seq with unique molecular identifiers.](https://europepmc.org/article/MED/24363023)  \\n* Shalek AK et al, [Single-cell RNA-seq reveals dynamic paracrine control of cellular variation.](https://europepmc.org/article/MED/24919153)  \\n* Takashima Y et al, [Resetting transcription factor control circuitry toward ground-state pluripotency in human.](https://europepmc.org/article/MED/25215486)  \\n* Treutlein B et al, [Reconstructing lineage hierarchies of the distal lung epithelium using single-cell RNA-seq.](https://europepmc.org/article/MED/24739965)  \\n* Wu H et al, [Reversing DNA methylation: mechanisms, genomics, and biological functions.](https://europepmc.org/article/MED/24439369)  \\n\\n### 2013\\n  \\n* Hackett JA et al, [Germline DNA demethylation dynamics and imprint erasure through 5-hydroxymethylcytosine.](https://europepmc.org/article/MED/23223451)  \\n* Shalek AK et al, [Single-cell transcriptomics reveals bimodality in expression and splicing in immune cells.](https://europepmc.org/article/MED/23685454)  \\n* Xue Z et al, [Genetic programs in human and mouse early embryos revealed by single-cell RNA sequencing.](https://europepmc.org/article/MED/23892778)  \\n* Yan L et al, [Single-cell RNA-Seq profiling of human preimplantation embryos and embryonic stem cells.](https://europepmc.org/article/MED/23934149)  \\n\\n### 2012\\n  \\n* Hashimshony T et al, [CEL-Seq: single-cell RNA-Seq by multiplexed linear amplification.](https://europepmc.org/article/MED/22939981)  \\n* Ramsköld D et al, [Full-length mRNA-Seq from single-cell levels of RNA and individual circulating tumor cells.](https://europepmc.org/article/MED/22820318)  \\n\\n### 2011\\n  \\n* Islam S et al, [Characterization of the single-cell transcriptional landscape by highly multiplex RNA-seq.](https://europepmc.org/article/MED/21543516)  \\n\\n# Small classics\\n\\n### 2018\\n  \\n* Afgan E et al, [The Galaxy platform for accessible, reproducible and collaborative biomedical analyses: 2018 update.](https://europepmc.org/article/MED/29790989)  \\n* Butler A et al, [Integrating single-cell transcriptomic data across different conditions, technologies, and species.](https://europepmc.org/article/MED/29608179)  \\n\\n### 2017\\n  \\n* Kiselev VY et al, [SC3: consensus clustering of single-cell RNA-seq data.](https://europepmc.org/article/MED/28346451)  \\n* Villani AC et al, [Single-cell RNA-seq reveals new types of human blood dendritic cells, monocytes, and progenitors.](https://europepmc.org/article/MED/28428369)  \\n* Ziegenhain C et al, [Comparative Analysis of Single-Cell RNA Sequencing Methods.](https://europepmc.org/article/MED/28212749)  \\n\\n### 2016\\n  \\n* Dixit A et al, [Perturb-Seq: Dissecting Molecular Circuits with Scalable Single-Cell RNA Profiling of Pooled Genetic Screens.](https://europepmc.org/article/MED/27984732)  \\n* Goldmann T et al, [Origin, fate and dynamics of macrophages at central nervous system interfaces.](https://europepmc.org/article/MED/27135602)  \\n* Nowakowski TJ et al, [Expression Analysis Highlights AXL as a Candidate Zika Virus Entry Receptor in Neural Stem Cells.](https://europepmc.org/article/MED/27038591)  \\n* Petryszak R et al, [Expression Atlas update--an integrated database of gene and protein expression in humans, animals and plants.](https://europepmc.org/article/MED/26481351)  \\n* Scotti MM et al, [RNA mis-splicing in disease.](https://europepmc.org/article/MED/26593421)  \\n* Segerstolpe Å et al, [Single-Cell Transcriptome Profiling of Human Pancreatic Islets in Health and Type 2 Diabetes.](https://europepmc.org/article/MED/27667667)  \\n* Sharma U et al, [Biogenesis and function of tRNA fragments during sperm maturation and fertilization in mammals.](https://europepmc.org/article/MED/26721685)  \\n* Shekhar K et al, [Comprehensive Classification of Retinal Bipolar Neurons by Single-Cell Transcriptomics.](https://europepmc.org/article/MED/27565351)  \\n\\n### 2015\\n  \\n* Alizadeh AA et al, [Toward understanding and exploiting tumor heterogeneity.](https://europepmc.org/article/MED/26248267)  \\n* Bond AM et al, [Adult Mammalian Neural Stem Cells and Neurogenesis: Five Decades Later.](https://europepmc.org/article/MED/26431181)  \\n* Camp JG et al, [Human cerebral organoids recapitulate gene expression programs of fetal neocortex development.](https://europepmc.org/article/MED/26644564)  \\n* Cusanovich DA et al, [Multiplex single cell profiling of chromatin accessibility by combinatorial cellular indexing.](https://europepmc.org/article/MED/25953818)  \\n* Finak G et al, [MAST: a flexible statistical framework for assessing transcriptional changes and characterizing heterogeneity in single-cell RNA sequencing data.](https://europepmc.org/article/MED/26653891)  \\n* Pollen AA et al, [Molecular identity of human outer radial glia during cortical development.](https://europepmc.org/article/MED/26406371)  \\n* Rotem A et al, [Single-cell ChIP-seq reveals cell subpopulations defined by chromatin state.](https://europepmc.org/article/MED/26458175)  \\n* Shin J et al, [Single-Cell RNA-Seq with Waterfall Reveals Molecular Cascades underlying Adult Neurogenesis.](https://europepmc.org/article/MED/26299571)  \\n* Stegle O et al, [Computational and analytical challenges in single-cell transcriptomics.](https://europepmc.org/article/MED/25628217)  \\n* Vaughan AE et al, [Lineage-negative progenitors mobilize to regenerate lung epithelium after major injury.](https://europepmc.org/article/MED/25533958)  \\n\\n### 2014\\n  \\n* Bendall SC et al, [Single-cell trajectory detection uncovers progression and regulatory coordination in human B cell development.](https://europepmc.org/article/MED/24766814)  \\n* Hogan BL et al, [Repair and regeneration of the respiratory system: complexity, plasticity, and mechanisms of lung stem cell function.](https://europepmc.org/article/MED/25105578)  \\n* Kharchenko PV et al, [Bayesian approach to single-cell differential expression analysis.](https://europepmc.org/article/MED/24836921)  \\n* Kumar RM et al, [Deconstructing transcriptional heterogeneity in pluripotent stem cells.](https://europepmc.org/article/MED/25471879)  \\n* Macaulay IC et al, [Single cell genomics: advances and future perspectives.](https://europepmc.org/article/MED/24497842)  \\n* Marinov GK et al, [From single-cell to cell-pool transcriptomes: stochasticity in gene expression and RNA splicing.](https://europepmc.org/article/MED/24299736)  \\n* Saliba AE et al, [Single-cell RNA-seq: advances and future challenges.](https://europepmc.org/article/MED/25053837)  \\n* Theunissen TW et al, [Systematic identification of culture conditions for induction and maintenance of naive human pluripotency.](https://europepmc.org/article/MED/25090446)  \\n* Wu AR et al, [Quantitative assessment of single-cell RNA-sequencing methods.](https://europepmc.org/article/MED/24141493)  \\n\\n### 2013\\n  \\n* Brennecke P et al, [Accounting for technical noise in single-cell RNA-seq experiments.](https://europepmc.org/article/MED/24056876)  \\n\\n### 2010\\n  \\n* Tang F et al, [RNA-Seq analysis to capture the transcriptome landscape of a single cell.](https://europepmc.org/article/MED/20203668)  \\n* Tang F et al, [Tracing the derivation of embryonic stem cells from the inner cell mass by single-cell RNA-Seq analysis.](https://europepmc.org/article/MED/20452321)  \\n\\n# Contributions\\n  \\nWant to contribute a classic that I've missed? Great! Just add classic to a fork, make a pull request, and it is good to go.\\n# Last update:\\n  \\nDecember 19, 2019\""
      ]
     },
     "execution_count": 31,
     "metadata": {},
     "output_type": "execute_result"
    }
   ],
   "source": [
    "from datetime import date\n",
    "today = date.today()\n",
    "today_long_format = today.strftime(\"%B %d, %Y\")\n",
    "mdFile.new_line()\n",
    "mdFile.new_header(1, \"Last update:\")\n",
    "\n",
    "mdFile.new_line(today_long_format)\n"
   ]
  },
  {
   "cell_type": "code",
   "execution_count": 32,
   "metadata": {},
   "outputs": [
    {
     "data": {
      "text/plain": [
       "<mdutils.fileutils.fileutils.MarkDownFile at 0x7fa02f644320>"
      ]
     },
     "execution_count": 32,
     "metadata": {},
     "output_type": "execute_result"
    }
   ],
   "source": [
    "mdFile.create_md_file()\n",
    "\n",
    "\n"
   ]
  },
  {
   "cell_type": "code",
   "execution_count": null,
   "metadata": {},
   "outputs": [],
   "source": []
  },
  {
   "cell_type": "code",
   "execution_count": 36,
   "metadata": {},
   "outputs": [
    {
     "data": {
      "text/plain": [
       "64"
      ]
     },
     "execution_count": 36,
     "metadata": {},
     "output_type": "execute_result"
    }
   ],
   "source": []
  },
  {
   "cell_type": "code",
   "execution_count": null,
   "metadata": {},
   "outputs": [],
   "source": []
  }
 ],
 "metadata": {
  "kernelspec": {
   "display_name": "Python 3",
   "language": "python",
   "name": "python3"
  },
  "language_info": {
   "codemirror_mode": {
    "name": "ipython",
    "version": 3
   },
   "file_extension": ".py",
   "mimetype": "text/x-python",
   "name": "python",
   "nbconvert_exporter": "python",
   "pygments_lexer": "ipython3",
   "version": "3.6.5"
  }
 },
 "nbformat": 4,
 "nbformat_minor": 4
}
